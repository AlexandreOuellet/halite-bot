{
 "cells": [
  {
   "cell_type": "code",
   "execution_count": 1,
   "metadata": {},
   "outputs": [
    {
     "name": "stderr",
     "output_type": "stream",
     "text": [
      "Using TensorFlow backend.\n"
     ]
    }
   ],
   "source": [
    "import random\n",
    "import numpy as np\n",
    "from collections import deque\n",
    "\n",
    "import keras\n",
    "from keras.models import Sequential, Model\n",
    "from keras.layers import Dense, Input, Embedding, Conv2D, Flatten, Activation, MaxPooling2D\n",
    "from keras.optimizers import Adam\n",
    "from keras.utils import to_categorical, plot_model\n",
    "\n",
    "import logging\n",
    "import pickle\n",
    "import os.path"
   ]
  },
  {
   "cell_type": "code",
   "execution_count": 2,
   "metadata": {
    "collapsed": true
   },
   "outputs": [],
   "source": [
    "learning_rate = 0.001\n",
    "name = \"Cattle\""
   ]
  },
  {
   "cell_type": "code",
   "execution_count": 5,
   "metadata": {},
   "outputs": [],
   "source": [
    "guylaine_input = Input(shape=(100,), name='ship_guylaine_input')\n",
    "ship_input = Input(shape=(4,), name='ship_input')\n",
    "\n",
    "state_input = keras.layers.concatenate([guylaine_input, ship_input])\n",
    "\n",
    "action_input = Input(shape=(1,), name='action_input')\n",
    "\n",
    "s_a_input = keras.layers.concatenate([state_input, action_input])\n",
    "\n",
    "s_a_input = Dense(64, activation='relu')(s_a_input)\n",
    "s_a_input = Dense(64, activation='relu')(s_a_input)\n",
    "s_a_input = Dense(64, activation='relu')(s_a_input)\n",
    "s_a_output = Dense(1, activation='linear', name='cattle_output')(s_a_input)\n",
    "\n",
    "model = Model(inputs=[guylaine_input, ship_input, action_input], outputs=s_a_output)\n",
    "\n",
    "model.compile(loss='mse',\n",
    "              optimizer=Adam(lr=learning_rate))"
   ]
  },
  {
   "cell_type": "code",
   "execution_count": null,
   "metadata": {
    "collapsed": true
   },
   "outputs": [],
   "source": []
  }
 ],
 "metadata": {
  "kernelspec": {
   "display_name": "Python 3",
   "language": "python",
   "name": "python3"
  },
  "language_info": {
   "codemirror_mode": {
    "name": "ipython",
    "version": 3
   },
   "file_extension": ".py",
   "mimetype": "text/x-python",
   "name": "python",
   "nbconvert_exporter": "python",
   "pygments_lexer": "ipython3",
   "version": "3.6.2"
  }
 },
 "nbformat": 4,
 "nbformat_minor": 2
}
