{
 "cells": [
  {
   "cell_type": "code",
   "execution_count": 3,
   "metadata": {},
   "outputs": [],
   "source": [
    "import random\n",
    "import numpy as np\n",
    "from collections import deque\n",
    "from keras.models import Sequential, Model\n",
    "from keras.layers import Dense, Input, Conv2D, Flatten, Activation, MaxPooling2D\n",
    "from keras.optimizers import Adam\n",
    "\n",
    "import logging\n",
    "import pickle\n",
    "import os.path"
   ]
  },
  {
   "cell_type": "code",
   "execution_count": 5,
   "metadata": {},
   "outputs": [],
   "source": [
    "import nnutils\n",
    "\n",
    "name = \"data/GuylaineV2G1\"\n",
    "\n",
    "guylaine_output_size = 100\n",
    "\n",
    "state_width = nnutils.tileWidth\n",
    "state_height = nnutils.tileHeight\n",
    "state_channels = 14\n",
    "output_size = guylaine_output_size\n",
    "memory = deque(maxlen=2000)\n",
    "gamma = 0.95    # discount r\n",
    "epsilon = 1.0  # exploration\n",
    "epsilon_min = 0.01\n",
    "epsilon_decay = 0.995\n",
    "learning_rate = 0.001"
   ]
  },
  {
   "cell_type": "code",
   "execution_count": 15,
   "metadata": {},
   "outputs": [],
   "source": [
    "model = Sequential()\n",
    "\n",
    "model.add(Conv2D(32, (3, 3), data_format=\"channels_last\",\n",
    "    input_shape=(state_channels, state_width, state_height), name='conv1'))\n",
    "model.add(Activation('relu'))\n",
    "model.add(MaxPooling2D(pool_size=(2, 2), name='maxpool1', data_format=\"channels_last\"))\n",
    "\n",
    "model.add(Conv2D(32, (3, 3), name='conv2', data_format=\"channels_last\"))\n",
    "model.add(Activation('relu'))\n",
    "model.add(MaxPooling2D(pool_size=(2, 2), name='maxpool2', data_format=\"channels_last\"))\n",
    "\n",
    "# model.add(Convolution2D(64, (3, 3), name='conv3', data_format=\"channels_last\"))\n",
    "# model.add(Activation('relu'))\n",
    "# model.add(MaxPooling2D(pool_size=(2, 2), name='maxpool3', data_format=\"channels_last\"))\n",
    "\n",
    "model.add(Flatten())\n",
    "\n",
    "model.add(Dense(512, name='dense1'))\n",
    "model.add(Activation('relu'))\n",
    "\n",
    "model.add(Dense(output_size, name='output'))\n",
    "model.add(Activation('sigmoid'))\n",
    "\n",
    "model.compile(loss='mse',\n",
    "              optimizer=Adam(lr=learning_rate),\n",
    "             metrics=['accuracy'])"
   ]
  },
  {
   "cell_type": "code",
   "execution_count": 16,
   "metadata": {},
   "outputs": [],
   "source": [
    "model.load_weights(name)\n",
    "memory = pickle.load(open(name + '_memory', 'rb'))\n",
    "epsilon = pickle.load(open(name + '_epsilon', 'rb'))"
   ]
  },
  {
   "cell_type": "code",
   "execution_count": 17,
   "metadata": {
    "collapsed": true
   },
   "outputs": [],
   "source": [
    "import keras\n",
    "from matplotlib import pyplot as plt\n",
    "from IPython.display import clear_output\n",
    "# updatable plot\n",
    "# a minimal example (sort of)\n",
    "\n",
    "class PlotLosses(keras.callbacks.Callback):\n",
    "    def on_train_begin(self, logs={}):\n",
    "        self.i = 0\n",
    "        self.x = []\n",
    "        self.losses = []\n",
    "        self.val_losses = []\n",
    "        \n",
    "        self.fig = plt.figure()\n",
    "        \n",
    "        self.logs = []\n",
    "\n",
    "    def on_epoch_end(self, epoch, logs={}):\n",
    "        \n",
    "        self.logs.append(logs)\n",
    "        self.x.append(self.i)\n",
    "        self.losses.append(logs.get('loss'))\n",
    "        self.val_losses.append(logs.get('val_loss'))\n",
    "        self.i += 1\n",
    "        \n",
    "        clear_output(wait=True)\n",
    "        plt.plot(self.x, self.losses, label=\"loss\")\n",
    "        plt.plot(self.x, self.val_losses, label=\"val_loss\")\n",
    "        plt.legend()\n",
    "        plt.show();\n",
    "        \n",
    "plot_losses = PlotLosses()"
   ]
  },
  {
   "cell_type": "code",
   "execution_count": 18,
   "metadata": {},
   "outputs": [
    {
     "data": {
      "image/png": "[encoded data removed]",
      "text/plain": [
       "<matplotlib.figure.Figure at 0x1912002f438>"
      ]
     },
     "metadata": {},
     "output_type": "display_data"
    }
   ],
   "source": [
    "batch_size = len(memory)\n",
    "\n",
    "\n",
    "minBatchSize = batch_size\n",
    "\n",
    "if (len(memory) < batch_size):\n",
    "    minBatchSize = len(memory)\n",
    "\n",
    "minibatch = random.sample(memory, minBatchSize)\n",
    "for state, action, reward, next_state, done in minibatch:\n",
    "    target = reward\n",
    "    \n",
    "    state = state.reshape(1, state.shape[0], state.shape[1], state.shape[2])\n",
    "    next_state = next_state.reshape(1, next_state.shape[0], next_state.shape[1], next_state.shape[2])\n",
    "\n",
    "\n",
    "    if not done:\n",
    "            target = (reward + gamma *\n",
    "                  np.amax(model.predict(next_state)[0]))\n",
    "    target_f = model.predict(state)\n",
    "\n",
    "    action_index = np.argmax(action)\n",
    "\n",
    "    target_f[0][action_index] = target\n",
    "    model.fit(state, target_f, epochs=1, verbose=0, callbacks=[plot_losses])\n",
    "\n",
    "if epsilon > epsilon_min:\n",
    "    epsilon *= epsilon_decay"
   ]
  },
  {
   "cell_type": "code",
   "execution_count": null,
   "metadata": {
    "collapsed": true
   },
   "outputs": [],
   "source": []
  }
 ],
 "metadata": {
  "kernelspec": {
   "display_name": "Python 3",
   "language": "python",
   "name": "python3"
  },
  "language_info": {
   "codemirror_mode": {
    "name": "ipython",
    "version": 3
   },
   "file_extension": ".py",
   "mimetype": "text/x-python",
   "name": "python",
   "nbconvert_exporter": "python",
   "pygments_lexer": "ipython3",
   "version": "3.6.2"
  }
 },
 "nbformat": 4,
 "nbformat_minor": 2
}
